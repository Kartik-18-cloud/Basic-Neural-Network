{
  "nbformat": 4,
  "nbformat_minor": 0,
  "metadata": {
    "colab": {
      "provenance": []
    },
    "kernelspec": {
      "name": "python3",
      "display_name": "Python 3"
    },
    "language_info": {
      "name": "python"
    }
  },
  "cells": [
    {
      "cell_type": "code",
      "execution_count": null,
      "metadata": {
        "id": "mN0qt3feMgnv",
        "colab": {
          "base_uri": "https://localhost:8080/"
        },
        "outputId": "b5d84e85-1a73-4dcb-eafa-df22c8b83ee1"
      },
      "outputs": [
        {
          "output_type": "stream",
          "name": "stdout",
          "text": [
            "[4.8, 1.21, 2.385]\n"
          ]
        }
      ],
      "source": [
        "#zip= combines two lists element wise (list of lists)\n",
        "\n",
        "inputs=[1,2,3,2.5]\n",
        "\n",
        "weights=[[0.2,0.8,-0.5,1],\n",
        " [0.5,-0.91,0.26,-0.5],\n",
        "  [-0.26,-0.27,0.17,0.87]]\n",
        "\n",
        "biases=[2,3,0.5]\n",
        "\n",
        "layer_output=[] #op of current layer\n",
        "for neuron_weights, neuron_bias in zip (weights,biases):\n",
        "  neuron_output=0\n",
        "  for n_input, weight in zip (inputs,neuron_weights):\n",
        "    neuron_output+=n_input*weight\n",
        "  neuron_output+=neuron_bias\n",
        "  layer_output.append(neuron_output)\n",
        "\n",
        "print(layer_output)\n"
      ]
    },
    {
      "cell_type": "code",
      "source": [
        "import numpy as np\n",
        "inputs=[1,2,3,2.5]\n",
        "\n",
        "weights=[0.2,0.8,-0.5,1]\n",
        "\n",
        "biases=[2]           #tensor=object that can be represented as an array\n",
        "\n",
        "op=np.dot(weights,inputs)+biases\n",
        "print(op)\n"
      ],
      "metadata": {
        "colab": {
          "base_uri": "https://localhost:8080/"
        },
        "id": "dBOLz_OEbFXE",
        "outputId": "9e0e8ba0-8173-4551-c78f-0348b8455bc0"
      },
      "execution_count": null,
      "outputs": [
        {
          "output_type": "stream",
          "name": "stdout",
          "text": [
            "[4.8]\n"
          ]
        }
      ]
    },
    {
      "cell_type": "code",
      "source": [
        "import numpy as np\n",
        "inputs=[1,2,3,2.5]\n",
        "\n",
        "weights=[[0.2,0.8,-0.5,1],\n",
        " [0.5,-0.91,0.26,-0.5],\n",
        "  [-0.26,-0.27,0.17,0.87]]\n",
        "\n",
        "biases=[2,3,0.5]\n",
        "\n",
        "op=np.dot(weights,inputs)+biases #put weights first then inputs\n",
        "print(op)\n",
        "\n",
        "#batches allow us to process things in parallel manner, also help in generalization"
      ],
      "metadata": {
        "colab": {
          "base_uri": "https://localhost:8080/"
        },
        "id": "zdUXiJwOeFOh",
        "outputId": "02f5afe6-d9e7-404a-c5e4-5b7da1316a73"
      },
      "execution_count": null,
      "outputs": [
        {
          "output_type": "stream",
          "name": "stdout",
          "text": [
            "[4.8   1.21  2.385]\n"
          ]
        }
      ]
    },
    {
      "cell_type": "code",
      "source": [
        "import numpy as np\n",
        "inputs=[[1,2,3,2.5],  #shape is 3,4\n",
        "        [2,5,-1,2],\n",
        "        [-1.5,2.7,3.3,-0.8]]\n",
        "\n",
        "weights=[[0.2,0.8,-0.5,1], #shape is 3,4\n",
        "         [0.5,-0.91,0.26,-0.5],\n",
        "         [-0.26,-0.27,0.17,0.87]]\n",
        "\n",
        "#to solve the problem of shape and dimension we transpose the weights matrix\n",
        "\n",
        "biases=[2,3,0.5]\n",
        "\n",
        "op=np.dot(inputs,np.array(weights).T)+biases\n",
        "print(op)\n",
        "\n",
        "#adding another layer in further cells\n"
      ],
      "metadata": {
        "id": "q7mBChyCiGu4",
        "colab": {
          "base_uri": "https://localhost:8080/"
        },
        "outputId": "14a01c4e-f389-4274-afd5-52c5d8a44ad2"
      },
      "execution_count": null,
      "outputs": [
        {
          "output_type": "stream",
          "name": "stdout",
          "text": [
            "[[ 4.8    1.21   2.385]\n",
            " [ 8.9   -1.81   0.2  ]\n",
            " [ 1.41   1.051  0.026]]\n"
          ]
        }
      ]
    },
    {
      "cell_type": "markdown",
      "source": [
        "![dot.png]()"
      ],
      "metadata": {
        "id": "Ctu3fHSejBig"
      }
    },
    {
      "cell_type": "code",
      "source": [
        "import numpy as np\n",
        "inputs2=[[1,2,3,2.5],  #shape is 3,4\n",
        "        [2,5,-1,2],\n",
        "        [-1.5,2.7,3.3,-0.8]]\n",
        "\n",
        "weights2=[[0.1,-0.14,0.5], #shape is 3,4\n",
        "         [-0.5,0.12,0.33],\n",
        "         [-0.44,-0.73,0.13]]\n",
        "\n",
        "biases2=[-1,2,-0.5]\n",
        "\n",
        "layer1_op=np.dot(inputs,np.array(weights).T)+biases\n",
        "\n",
        "layer2_op=np.dot(layer1_op,np.array(weights2).T)+biases2\n",
        "\n",
        "print(layer2_op)"
      ],
      "metadata": {
        "colab": {
          "base_uri": "https://localhost:8080/"
        },
        "id": "LcfeMoFEjS6-",
        "outputId": "d6b475b3-1fb2-4d16-8ec8-c70b19b6f6ae"
      },
      "execution_count": null,
      "outputs": [
        {
          "output_type": "stream",
          "name": "stdout",
          "text": [
            "[[ 0.5031   0.53225 -3.18525]\n",
            " [ 0.2434  -2.6012  -3.0687 ]\n",
            " [-0.99314  1.4297  -1.88425]]\n"
          ]
        }
      ]
    },
    {
      "cell_type": "code",
      "source": [
        "import numpy as np\n",
        "\n",
        "np.random.seed(0)\n",
        "\n",
        "X=inputs2=[[1,2,3,2.5],\n",
        "        [2,5,-1,2],\n",
        "        [-1.5,2.7,3.3,-0.8]]\n",
        "\n",
        "#hidden layer=how that layer changes\n",
        "\n",
        "class layer_dense:\n",
        "  def __init__(self,n_inputs,n_neurons):\n",
        "    self.weights=np.random.rand(n_inputs,n_neurons)\n",
        "    self.baises=np.zeros((1,n_neurons))\n",
        "  def forward(self,inputs):\n",
        "    self.output=np.dot(inputs,self.weights)+self. baises\n",
        "\n",
        "layer1=layer_dense(4,5)\n",
        "layer2=layer_dense(5,2) #here the output from the layer 1 is 5 , so layer 2 cant have any other shape than 5\n",
        "\n",
        "layer1.forward(X)\n",
        "\n",
        "print(layer1.output)\n"
      ],
      "metadata": {
        "colab": {
          "base_uri": "https://localhost:8080/"
        },
        "id": "EBSgGD8gmerY",
        "outputId": "de58abf4-89be-463e-b7e7-5de848a9cae6"
      },
      "execution_count": null,
      "outputs": [
        {
          "output_type": "stream",
          "name": "stdout",
          "text": [
            "[[ 4.43360009  3.22759454  6.17199267  7.1943905   3.57867638]\n",
            " [ 3.70963113  3.12985666  6.76158689  6.53879703  4.43350543]\n",
            " [ 3.46368304  1.83787994  2.71209321  4.21650818 -0.06178082]]\n"
          ]
        }
      ]
    },
    {
      "cell_type": "code",
      "source": [
        "import numpy as np\n",
        "\n",
        "np.random.seed(0)\n",
        "\n",
        "X=inputs2=[[1,2,3,2.5],\n",
        "        [2,5,-1,2],\n",
        "        [-1.5,2.7,3.3,-0.8]]\n",
        "\n",
        "#hidden layer=how that layer changes\n",
        "\n",
        "class layer_dense:\n",
        "  def __init__(self,n_inputs,n_neurons):\n",
        "    self.weights=np.random.rand(n_inputs,n_neurons) # no need to transpose the weight matrix here since we can change the order of the matrices\n",
        "    self.baises=np.zeros((1,n_neurons))\n",
        "  def forward(self,inputs):\n",
        "    self.output=np.dot(inputs,self.weights)+self. baises\n",
        "\n",
        "layer1=layer_dense(4,5) #here we define the size of the input and the number of neurons\n",
        "layer2=layer_dense(5,2) #here the output from the layer 1 is 5 , so layer 2 cant have any other shape than 5\n",
        "\n",
        "layer1.forward(X)\n",
        "\n",
        "print(layer1.output)\n",
        "layer2.forward(layer1.output)\n",
        "print(layer2.output)"
      ],
      "metadata": {
        "colab": {
          "base_uri": "https://localhost:8080/"
        },
        "id": "Esy_BAVNphqn",
        "outputId": "906758a1-4c9c-44fd-f258-357d7d699996"
      },
      "execution_count": null,
      "outputs": [
        {
          "output_type": "stream",
          "name": "stdout",
          "text": [
            "[[ 4.43360009  3.22759454  6.17199267  7.1943905   3.57867638]\n",
            " [ 3.70963113  3.12985666  6.76158689  6.53879703  4.43350543]\n",
            " [ 3.46368304  1.83787994  2.71209321  4.21650818 -0.06178082]]\n",
            "[[ 9.45712533 18.29222702]\n",
            " [ 9.12537555 17.7498138 ]\n",
            " [ 5.13074877  9.8956624 ]]\n"
          ]
        }
      ]
    },
    {
      "cell_type": "markdown",
      "source": [
        "Activation functions"
      ],
      "metadata": {
        "id": "SI05hloC4uGR"
      }
    },
    {
      "cell_type": "code",
      "source": [
        "#Rectified linear unit(ReLU)\n",
        "#relu with 2neurons can be used as a bounded function from 0 to 1 (similar to step function                                                                                                       )\n",
        "\n",
        "input=[0,2,-1,3.3,-2.7,1.1,2.2,-110]\n",
        "op=[]\n",
        "for i in input:\n",
        "  if(i>0):\n",
        "    op.append(i)\n",
        "  else:\n",
        "    op.append(0)\n",
        "print(op)\n",
        "\n",
        "for i in input:\n",
        "  op.append(max(0,i))\n",
        "print(op)"
      ],
      "metadata": {
        "colab": {
          "base_uri": "https://localhost:8080/"
        },
        "id": "gvl-H8y34tPE",
        "outputId": "80b1b45d-6fe9-4dff-c424-85820737485a"
      },
      "execution_count": null,
      "outputs": [
        {
          "output_type": "stream",
          "name": "stdout",
          "text": [
            "[0, 2, 0, 3.3, 0, 1.1, 2.2, 0]\n"
          ]
        }
      ]
    },
    {
      "cell_type": "code",
      "source": [
        "import math\n",
        "layer_output=[4.8,1.21,2.385]\n",
        "E=math.e\n",
        "\n",
        "exp_values=[]\n",
        "for i in layer_output:\n",
        "  exp_values.append(E**i)\n",
        "print(exp_values)\n",
        "\n",
        "norm_base=sum(exp_values)\n",
        "norm_values=[]\n",
        "for i in exp_values:\n",
        "  norm_values.append(i/norm_base)\n",
        "print(norm_values)\n",
        "print(sum(norm_values))\n"
      ],
      "metadata": {
        "colab": {
          "base_uri": "https://localhost:8080/"
        },
        "id": "WI-UwKz98XLr",
        "outputId": "018e34e4-0707-48d5-d72f-a4d4c602c65d"
      },
      "execution_count": null,
      "outputs": [
        {
          "output_type": "stream",
          "name": "stdout",
          "text": [
            "[121.51041751873483, 3.353484652549023, 10.859062664920513]\n",
            "[0.8952826639572619, 0.024708306782099374, 0.0800090292606387]\n",
            "0.9999999999999999\n"
          ]
        }
      ]
    },
    {
      "cell_type": "code",
      "source": [
        "import numpy as np\n",
        "import nnfs\n",
        "from nnfs.datasets import spiral_data\n",
        "\n",
        "nnfs.init()\n",
        "\n",
        "class layer_dense:\n",
        "  def __init__(self,n_inputs,n_neurons):\n",
        "    self.weights=np.random.rand(n_inputs,n_neurons) # no need to transpose the weight matrix here since we can change the order of the matrices\n",
        "    self.baises=np.zeros((1,n_neurons))\n",
        "  def forward(self,inputs):\n",
        "    self.output=np.dot(inputs,self.weights)+self. baises\n",
        "\n",
        "class activation_ReLU:\n",
        "  def forward(self,inputs):\n",
        "    self.output=np.maximum(0,inputs)\n",
        "\n",
        "\n",
        "class activation_softmax:\n",
        "  def forward(self,inputs):\n",
        "    exp_values=np.exp(inputs-np.max(inputs,axis=1,keepdims=True))\n",
        "    prob=exp_values/np.sum(exp_values,axis=1,keepdims=True)\n",
        "    self.output=prob\n",
        "\n",
        "class loss:\n",
        "  def calculate(self,output,y): # y is target value\n",
        "    sample_losses=self.forward(output,y)\n",
        "    data_loss=np.mean(sample_losses)\n",
        "    return data_loss\n",
        "\n",
        "class loss_categorialcrossentropy(loss):\n",
        "  def forward(self,y_pred,y_true):\n",
        "    samples=len(y_pred)\n",
        "    y_pred_clipped= np.clip(y_pred, 1e-7, 1-1e-7)\n",
        "\n",
        "    if len(y_true.shape)==1:\n",
        "      correct_confidences=y_pred_clipped[range(samples),y_true]\n",
        "    elif len(y_true.shape)==2 :\n",
        "      correct_confidences=np.sum(y_pred_clipped*y_true, axis=1)\n",
        "\n",
        "    negetive_log_lk=-np.log(correct_confidences)\n",
        "    return negetive_log_lk\n",
        "\n",
        "\n",
        "X,y=spiral_data(100,3)\n",
        "\n",
        "dense1=layer_dense(2,3) #layer defining\n",
        "activation1=activation_ReLU() #relu for hidden\n",
        "\n",
        "dense2=layer_dense(3,3)\n",
        "activation2=activation_softmax() #softmax for output\n",
        "\n",
        "dense1.forward(X)        #forward\n",
        "activation1.forward(dense1.output)\n",
        "\n",
        "dense2.forward(activation1.output)\n",
        "activation2.forward(dense2.output)\n",
        "\n",
        "#print(activation2.output[:5])\n",
        "\n",
        "loss_function=loss_categorialcrossentropy()\n",
        "loss=loss_function.calculate(activation2.output,y)\n",
        "\n",
        "print(\"loss:\",loss)"
      ],
      "metadata": {
        "colab": {
          "base_uri": "https://localhost:8080/"
        },
        "id": "x0GUSmg-BejS",
        "outputId": "6c7cc208-2b3b-4564-fcce-59f6720cb58a"
      },
      "execution_count": null,
      "outputs": [
        {
          "output_type": "stream",
          "name": "stdout",
          "text": [
            "loss: 1.0977035\n"
          ]
        }
      ]
    },
    {
      "cell_type": "code",
      "source": [
        "import matplotlib.pyplot as plt\n",
        "import nnfs\n",
        "from nnfs.datasets import spiral_data\n",
        "\n",
        "nnfs.init()\n",
        "\n",
        "ax = plt.axes()\n",
        "ax.set_facecolor(\"black\")\n",
        "ax.patch.set_alpha(0.9)\n",
        "\n",
        "X,y =spiral_data(samples=100,classes=3)\n",
        "plt.scatter(X[:,0],X[:,1],c=y,cmap=\"brg\")\n",
        "\n",
        "plt.show()"
      ],
      "metadata": {
        "colab": {
          "base_uri": "https://localhost:8080/",
          "height": 430
        },
        "id": "X7Tr1GSLYAFB",
        "outputId": "9df8cb47-008b-4eae-9ce7-99a54925f5a5"
      },
      "execution_count": null,
      "outputs": [
        {
          "output_type": "display_data",
          "data": {
            "text/plain": [
              "<Figure size 640x480 with 1 Axes>"
            ],
            "image/png": "[encoded data removed]"
          },
          "metadata": {}
        }
      ]
    },
    {
      "cell_type": "code",
      "source": [
        "import matplotlib as plt\n",
        "import nnfs\n",
        "\n",
        "from nnfs.datasets import spiral_data\n",
        "from nnfs.datasets import vertical_data\n",
        "\n",
        "nnfs.init()\n",
        "\n",
        "#X,y=vertical_data(samples=100,classes=3)\n",
        "X,y=spiral_data(samples=100,classes=3)\n",
        "\n",
        "dense1=layer_dense(2,3)\n",
        "activation1=activation_ReLU()\n",
        "dense2=layer_dense(3,3)\n",
        "activation2=activation_softmax()\n",
        "\n",
        "loss_function=loss_categorialcrossentropy()\n",
        "lowest_loss=9999999\n",
        "best_dense1_weights=dense1.weights.copy()\n",
        "best_dense1_baises=dense1.baises.copy()\n",
        "best_dense2_weights=dense2.weights.copy()\n",
        "best_dense2_baises=dense2.baises.copy()\n",
        "\n",
        "for iteration in range(100000):\n",
        "  dense1.weights+=0.05*np.random.randn(2,3)\n",
        "  dense1.baises+=0.05*np.random.randn(1,3)\n",
        "  dense2.weights+=0.05*np.random.randn(3,3)\n",
        "  dense2.baises+=0.05*np.random.randn(1,3)\n",
        "\n",
        "  dense1.forward(X)\n",
        "  activation1.forward(dense1.output)\n",
        "  dense2.forward(activation1.output)\n",
        "  activation2.forward(dense2.output)\n",
        "\n",
        "  loss=loss_function.calculate(activation2.output,y)\n",
        "\n",
        "  prediction=np.argmax(activation2.output,axis=1)\n",
        "  accuracy=np.mean(prediction==y)\n",
        "\n",
        "  if(loss<lowest_loss):\n",
        "    print(\"new set of weights found,iteration:\",iteration,\"loss:\",loss,\"acc:\",accuracy)\n",
        "    best_dense1_weights=dense1.weights.copy()\n",
        "    best_dense1_baises=dense1.baises.copy()\n",
        "    best_dense2_weights=dense2.weights.copy()\n",
        "    best_dense2_baises=dense2.baises.copy()\n",
        "    lowest_loss=loss\n",
        "  else:\n",
        "    dense1.weights=best_dense1_weights.copy()\n",
        "    dense1.baises=best_dense1_baises.copy()\n",
        "    dense2.weights=best_dense2_weights.copy()\n",
        "    dense2.baises=best_dense2_baises.copy()\n",
        "\n"
      ],
      "metadata": {
        "colab": {
          "base_uri": "https://localhost:8080/"
        },
        "id": "cAxXNyFudUV3",
        "outputId": "82550b38-f621-4f62-d6f0-1dc07a29dab5"
      },
      "execution_count": null,
      "outputs": [
        {
          "output_type": "stream",
          "name": "stdout",
          "text": [
            "new set of weights found,iteration: 0 loss: 1.097464 acc: 0.3333333333333333\n",
            "new set of weights found,iteration: 8 loss: 1.0968142 acc: 0.3566666666666667\n",
            "new set of weights found,iteration: 11 loss: 1.0951763 acc: 0.36666666666666664\n",
            "new set of weights found,iteration: 14 loss: 1.0948466 acc: 0.38\n",
            "new set of weights found,iteration: 16 loss: 1.094087 acc: 0.37333333333333335\n",
            "new set of weights found,iteration: 18 loss: 1.0927956 acc: 0.3566666666666667\n",
            "new set of weights found,iteration: 19 loss: 1.0927122 acc: 0.41\n",
            "new set of weights found,iteration: 35 loss: 1.0918893 acc: 0.33666666666666667\n",
            "new set of weights found,iteration: 55 loss: 1.0914279 acc: 0.3566666666666667\n",
            "new set of weights found,iteration: 64 loss: 1.0911314 acc: 0.33\n",
            "new set of weights found,iteration: 67 loss: 1.0910538 acc: 0.41\n",
            "new set of weights found,iteration: 70 loss: 1.0897763 acc: 0.39\n",
            "new set of weights found,iteration: 85 loss: 1.0889299 acc: 0.4066666666666667\n",
            "new set of weights found,iteration: 97 loss: 1.0883875 acc: 0.37666666666666665\n",
            "new set of weights found,iteration: 114 loss: 1.0880667 acc: 0.4033333333333333\n",
            "new set of weights found,iteration: 119 loss: 1.0880126 acc: 0.43333333333333335\n",
            "new set of weights found,iteration: 121 loss: 1.0871918 acc: 0.36\n",
            "new set of weights found,iteration: 136 loss: 1.0866722 acc: 0.37\n",
            "new set of weights found,iteration: 165 loss: 1.0864458 acc: 0.38333333333333336\n",
            "new set of weights found,iteration: 197 loss: 1.0861143 acc: 0.4\n",
            "new set of weights found,iteration: 273 loss: 1.08578 acc: 0.39\n",
            "new set of weights found,iteration: 292 loss: 1.0856304 acc: 0.4066666666666667\n",
            "new set of weights found,iteration: 293 loss: 1.0854343 acc: 0.38333333333333336\n",
            "new set of weights found,iteration: 314 loss: 1.0854226 acc: 0.3933333333333333\n",
            "new set of weights found,iteration: 328 loss: 1.0853524 acc: 0.39666666666666667\n",
            "new set of weights found,iteration: 335 loss: 1.0849831 acc: 0.41\n",
            "new set of weights found,iteration: 340 loss: 1.0845059 acc: 0.41\n",
            "new set of weights found,iteration: 365 loss: 1.0839791 acc: 0.4266666666666667\n",
            "new set of weights found,iteration: 392 loss: 1.0838994 acc: 0.37\n",
            "new set of weights found,iteration: 459 loss: 1.0836713 acc: 0.4033333333333333\n",
            "new set of weights found,iteration: 485 loss: 1.0834705 acc: 0.39\n",
            "new set of weights found,iteration: 520 loss: 1.083255 acc: 0.41\n",
            "new set of weights found,iteration: 527 loss: 1.0829715 acc: 0.39\n",
            "new set of weights found,iteration: 547 loss: 1.082821 acc: 0.42333333333333334\n",
            "new set of weights found,iteration: 587 loss: 1.0820926 acc: 0.4066666666666667\n",
            "new set of weights found,iteration: 618 loss: 1.0819303 acc: 0.39666666666666667\n",
            "new set of weights found,iteration: 634 loss: 1.0818138 acc: 0.41333333333333333\n",
            "new set of weights found,iteration: 691 loss: 1.0817753 acc: 0.42333333333333334\n",
            "new set of weights found,iteration: 726 loss: 1.0816551 acc: 0.3933333333333333\n",
            "new set of weights found,iteration: 761 loss: 1.0814046 acc: 0.4066666666666667\n",
            "new set of weights found,iteration: 938 loss: 1.0809723 acc: 0.4\n",
            "new set of weights found,iteration: 951 loss: 1.0804806 acc: 0.38333333333333336\n",
            "new set of weights found,iteration: 989 loss: 1.0802011 acc: 0.34\n",
            "new set of weights found,iteration: 1010 loss: 1.0797906 acc: 0.3333333333333333\n",
            "new set of weights found,iteration: 1026 loss: 1.0797064 acc: 0.3466666666666667\n",
            "new set of weights found,iteration: 1073 loss: 1.0786399 acc: 0.36\n",
            "new set of weights found,iteration: 1094 loss: 1.0783457 acc: 0.36333333333333334\n",
            "new set of weights found,iteration: 1101 loss: 1.0781543 acc: 0.37\n",
            "new set of weights found,iteration: 1109 loss: 1.0778426 acc: 0.3433333333333333\n",
            "new set of weights found,iteration: 1161 loss: 1.0774239 acc: 0.37333333333333335\n",
            "new set of weights found,iteration: 1166 loss: 1.0772903 acc: 0.38666666666666666\n",
            "new set of weights found,iteration: 1169 loss: 1.0768415 acc: 0.35\n",
            "new set of weights found,iteration: 1176 loss: 1.0767373 acc: 0.38666666666666666\n",
            "new set of weights found,iteration: 1179 loss: 1.0765702 acc: 0.3933333333333333\n",
            "new set of weights found,iteration: 1181 loss: 1.0763522 acc: 0.37\n",
            "new set of weights found,iteration: 1184 loss: 1.0755948 acc: 0.38666666666666666\n",
            "new set of weights found,iteration: 1190 loss: 1.0753646 acc: 0.34\n",
            "new set of weights found,iteration: 1212 loss: 1.0752584 acc: 0.32666666666666666\n",
            "new set of weights found,iteration: 1236 loss: 1.0748541 acc: 0.43\n",
            "new set of weights found,iteration: 1243 loss: 1.0745056 acc: 0.3566666666666667\n",
            "new set of weights found,iteration: 1244 loss: 1.07371 acc: 0.3433333333333333\n",
            "new set of weights found,iteration: 1365 loss: 1.0736872 acc: 0.34\n",
            "new set of weights found,iteration: 1408 loss: 1.0734446 acc: 0.36666666666666664\n",
            "new set of weights found,iteration: 1445 loss: 1.0733633 acc: 0.3566666666666667\n",
            "new set of weights found,iteration: 1459 loss: 1.0732446 acc: 0.34\n",
            "new set of weights found,iteration: 1461 loss: 1.0731714 acc: 0.3466666666666667\n",
            "new set of weights found,iteration: 1474 loss: 1.0728403 acc: 0.39666666666666667\n",
            "new set of weights found,iteration: 1496 loss: 1.0722314 acc: 0.3466666666666667\n",
            "new set of weights found,iteration: 1513 loss: 1.0720284 acc: 0.42\n",
            "new set of weights found,iteration: 1524 loss: 1.0716788 acc: 0.41\n",
            "new set of weights found,iteration: 1525 loss: 1.0715069 acc: 0.42333333333333334\n",
            "new set of weights found,iteration: 1528 loss: 1.0713887 acc: 0.3566666666666667\n",
            "new set of weights found,iteration: 1532 loss: 1.071333 acc: 0.38333333333333336\n",
            "new set of weights found,iteration: 1539 loss: 1.071326 acc: 0.39666666666666667\n",
            "new set of weights found,iteration: 1544 loss: 1.0707031 acc: 0.42333333333333334\n",
            "new set of weights found,iteration: 1569 loss: 1.0704451 acc: 0.39\n",
            "new set of weights found,iteration: 1577 loss: 1.0700055 acc: 0.43333333333333335\n",
            "new set of weights found,iteration: 1604 loss: 1.0695835 acc: 0.42333333333333334\n",
            "new set of weights found,iteration: 1666 loss: 1.0694076 acc: 0.3933333333333333\n",
            "new set of weights found,iteration: 1675 loss: 1.0687052 acc: 0.36333333333333334\n",
            "new set of weights found,iteration: 1782 loss: 1.0686213 acc: 0.4033333333333333\n",
            "new set of weights found,iteration: 1784 loss: 1.0685138 acc: 0.38\n",
            "new set of weights found,iteration: 1785 loss: 1.0681891 acc: 0.38333333333333336\n",
            "new set of weights found,iteration: 1951 loss: 1.068187 acc: 0.36666666666666664\n",
            "new set of weights found,iteration: 1974 loss: 1.0676248 acc: 0.42\n",
            "new set of weights found,iteration: 2074 loss: 1.0676148 acc: 0.36333333333333334\n",
            "new set of weights found,iteration: 2077 loss: 1.0671588 acc: 0.3933333333333333\n",
            "new set of weights found,iteration: 2139 loss: 1.0669006 acc: 0.3933333333333333\n",
            "new set of weights found,iteration: 2180 loss: 1.0666811 acc: 0.3433333333333333\n",
            "new set of weights found,iteration: 2182 loss: 1.06626 acc: 0.36333333333333334\n",
            "new set of weights found,iteration: 2202 loss: 1.0657886 acc: 0.37333333333333335\n",
            "new set of weights found,iteration: 2236 loss: 1.0656719 acc: 0.35\n",
            "new set of weights found,iteration: 2315 loss: 1.0654664 acc: 0.3933333333333333\n",
            "new set of weights found,iteration: 2329 loss: 1.0651828 acc: 0.3466666666666667\n",
            "new set of weights found,iteration: 2379 loss: 1.0651766 acc: 0.37\n",
            "new set of weights found,iteration: 2502 loss: 1.0649452 acc: 0.41\n",
            "new set of weights found,iteration: 2510 loss: 1.06474 acc: 0.32666666666666666\n",
            "new set of weights found,iteration: 2525 loss: 1.0647204 acc: 0.36666666666666664\n",
            "new set of weights found,iteration: 2535 loss: 1.0645305 acc: 0.36\n",
            "new set of weights found,iteration: 2547 loss: 1.0642974 acc: 0.35333333333333333\n",
            "new set of weights found,iteration: 2563 loss: 1.0640782 acc: 0.3566666666666667\n",
            "new set of weights found,iteration: 2602 loss: 1.0637581 acc: 0.37333333333333335\n",
            "new set of weights found,iteration: 2606 loss: 1.0633453 acc: 0.35333333333333333\n",
            "new set of weights found,iteration: 2691 loss: 1.0631658 acc: 0.37\n",
            "new set of weights found,iteration: 2699 loss: 1.0625877 acc: 0.35\n",
            "new set of weights found,iteration: 2734 loss: 1.06187 acc: 0.3566666666666667\n",
            "new set of weights found,iteration: 2786 loss: 1.0618522 acc: 0.35333333333333333\n",
            "new set of weights found,iteration: 2807 loss: 1.0615563 acc: 0.3566666666666667\n",
            "new set of weights found,iteration: 2808 loss: 1.0612484 acc: 0.38\n",
            "new set of weights found,iteration: 3015 loss: 1.0611107 acc: 0.38333333333333336\n",
            "new set of weights found,iteration: 3122 loss: 1.0608854 acc: 0.35333333333333333\n",
            "new set of weights found,iteration: 3294 loss: 1.0608745 acc: 0.38333333333333336\n",
            "new set of weights found,iteration: 3381 loss: 1.0608163 acc: 0.34\n",
            "new set of weights found,iteration: 3413 loss: 1.0605972 acc: 0.38\n",
            "new set of weights found,iteration: 3466 loss: 1.0605819 acc: 0.38666666666666666\n",
            "new set of weights found,iteration: 3550 loss: 1.0604596 acc: 0.3933333333333333\n",
            "new set of weights found,iteration: 3599 loss: 1.0602969 acc: 0.4066666666666667\n",
            "new set of weights found,iteration: 3600 loss: 1.0601463 acc: 0.38333333333333336\n",
            "new set of weights found,iteration: 3615 loss: 1.0600367 acc: 0.38\n",
            "new set of weights found,iteration: 3651 loss: 1.059887 acc: 0.35333333333333333\n",
            "new set of weights found,iteration: 3730 loss: 1.0594442 acc: 0.38333333333333336\n",
            "new set of weights found,iteration: 3741 loss: 1.0593847 acc: 0.36333333333333334\n",
            "new set of weights found,iteration: 3775 loss: 1.0593317 acc: 0.39666666666666667\n",
            "new set of weights found,iteration: 3796 loss: 1.0587974 acc: 0.36666666666666664\n",
            "new set of weights found,iteration: 3823 loss: 1.0584121 acc: 0.4\n",
            "new set of weights found,iteration: 3828 loss: 1.0583333 acc: 0.41\n",
            "new set of weights found,iteration: 3863 loss: 1.058067 acc: 0.4266666666666667\n",
            "new set of weights found,iteration: 3938 loss: 1.0579159 acc: 0.43\n",
            "new set of weights found,iteration: 3954 loss: 1.0572634 acc: 0.37666666666666665\n",
            "new set of weights found,iteration: 4031 loss: 1.0572588 acc: 0.42333333333333334\n",
            "new set of weights found,iteration: 4118 loss: 1.0569043 acc: 0.4\n",
            "new set of weights found,iteration: 4369 loss: 1.0568461 acc: 0.4266666666666667\n",
            "new set of weights found,iteration: 4372 loss: 1.0562347 acc: 0.38333333333333336\n",
            "new set of weights found,iteration: 4584 loss: 1.0560265 acc: 0.3933333333333333\n",
            "new set of weights found,iteration: 4647 loss: 1.0559666 acc: 0.3566666666666667\n",
            "new set of weights found,iteration: 4743 loss: 1.0556427 acc: 0.39666666666666667\n",
            "new set of weights found,iteration: 4757 loss: 1.0553824 acc: 0.43666666666666665\n",
            "new set of weights found,iteration: 4799 loss: 1.0551316 acc: 0.43333333333333335\n",
            "new set of weights found,iteration: 4808 loss: 1.0547504 acc: 0.37666666666666665\n",
            "new set of weights found,iteration: 4810 loss: 1.0547441 acc: 0.38\n",
            "new set of weights found,iteration: 4850 loss: 1.0546746 acc: 0.38\n",
            "new set of weights found,iteration: 5035 loss: 1.0545352 acc: 0.39666666666666667\n",
            "new set of weights found,iteration: 5207 loss: 1.0543622 acc: 0.43333333333333335\n",
            "new set of weights found,iteration: 5212 loss: 1.0542454 acc: 0.44\n",
            "new set of weights found,iteration: 5250 loss: 1.0540926 acc: 0.43333333333333335\n",
            "new set of weights found,iteration: 5307 loss: 1.0539914 acc: 0.4266666666666667\n",
            "new set of weights found,iteration: 5545 loss: 1.0537369 acc: 0.4033333333333333\n",
            "new set of weights found,iteration: 5612 loss: 1.0534942 acc: 0.4266666666666667\n",
            "new set of weights found,iteration: 5628 loss: 1.0533943 acc: 0.43\n",
            "new set of weights found,iteration: 5802 loss: 1.0533756 acc: 0.39\n",
            "new set of weights found,iteration: 5923 loss: 1.0533327 acc: 0.42333333333333334\n",
            "new set of weights found,iteration: 6746 loss: 1.0532168 acc: 0.4\n",
            "new set of weights found,iteration: 6751 loss: 1.0530686 acc: 0.36333333333333334\n",
            "new set of weights found,iteration: 6900 loss: 1.052937 acc: 0.4266666666666667\n",
            "new set of weights found,iteration: 6957 loss: 1.0529116 acc: 0.4066666666666667\n",
            "new set of weights found,iteration: 7473 loss: 1.0527786 acc: 0.3933333333333333\n",
            "new set of weights found,iteration: 7535 loss: 1.0527414 acc: 0.42333333333333334\n",
            "new set of weights found,iteration: 7555 loss: 1.0522612 acc: 0.44\n",
            "new set of weights found,iteration: 7653 loss: 1.0522141 acc: 0.42\n",
            "new set of weights found,iteration: 7752 loss: 1.0520701 acc: 0.42333333333333334\n",
            "new set of weights found,iteration: 7824 loss: 1.0514746 acc: 0.43333333333333335\n",
            "new set of weights found,iteration: 7857 loss: 1.0514274 acc: 0.43\n",
            "new set of weights found,iteration: 7859 loss: 1.0509901 acc: 0.39\n",
            "new set of weights found,iteration: 8141 loss: 1.0509391 acc: 0.37666666666666665\n",
            "new set of weights found,iteration: 8239 loss: 1.0505135 acc: 0.4\n",
            "new set of weights found,iteration: 8698 loss: 1.0502995 acc: 0.39666666666666667\n",
            "new set of weights found,iteration: 8977 loss: 1.0500255 acc: 0.41333333333333333\n",
            "new set of weights found,iteration: 9514 loss: 1.050017 acc: 0.4033333333333333\n",
            "new set of weights found,iteration: 9570 loss: 1.0499153 acc: 0.39\n",
            "new set of weights found,iteration: 9750 loss: 1.0498029 acc: 0.39\n",
            "new set of weights found,iteration: 9758 loss: 1.0497066 acc: 0.43\n",
            "new set of weights found,iteration: 9804 loss: 1.0496092 acc: 0.43\n",
            "new set of weights found,iteration: 9828 loss: 1.0494745 acc: 0.42333333333333334\n",
            "new set of weights found,iteration: 9840 loss: 1.0492651 acc: 0.44\n",
            "new set of weights found,iteration: 9890 loss: 1.048893 acc: 0.42333333333333334\n",
            "new set of weights found,iteration: 9902 loss: 1.0487286 acc: 0.4266666666666667\n",
            "new set of weights found,iteration: 9926 loss: 1.0486759 acc: 0.44\n",
            "new set of weights found,iteration: 9957 loss: 1.0484172 acc: 0.41333333333333333\n",
            "new set of weights found,iteration: 10126 loss: 1.0483837 acc: 0.4033333333333333\n",
            "new set of weights found,iteration: 10338 loss: 1.0483195 acc: 0.4033333333333333\n",
            "new set of weights found,iteration: 10712 loss: 1.0482317 acc: 0.43333333333333335\n",
            "new set of weights found,iteration: 10786 loss: 1.0481732 acc: 0.43666666666666665\n",
            "new set of weights found,iteration: 11655 loss: 1.0481064 acc: 0.43333333333333335\n",
            "new set of weights found,iteration: 11658 loss: 1.0479238 acc: 0.43666666666666665\n",
            "new set of weights found,iteration: 11923 loss: 1.0476813 acc: 0.43666666666666665\n",
            "new set of weights found,iteration: 11928 loss: 1.0473422 acc: 0.43\n",
            "new set of weights found,iteration: 12370 loss: 1.0473092 acc: 0.43\n",
            "new set of weights found,iteration: 12476 loss: 1.047243 acc: 0.42\n",
            "new set of weights found,iteration: 13260 loss: 1.0471877 acc: 0.4166666666666667\n",
            "new set of weights found,iteration: 13433 loss: 1.0469022 acc: 0.4266666666666667\n",
            "new set of weights found,iteration: 13555 loss: 1.0468135 acc: 0.42333333333333334\n",
            "new set of weights found,iteration: 13793 loss: 1.0467558 acc: 0.39666666666666667\n",
            "new set of weights found,iteration: 14720 loss: 1.0467381 acc: 0.4166666666666667\n",
            "new set of weights found,iteration: 15201 loss: 1.0466847 acc: 0.42\n",
            "new set of weights found,iteration: 16024 loss: 1.0466554 acc: 0.4166666666666667\n",
            "new set of weights found,iteration: 16173 loss: 1.0464195 acc: 0.42333333333333334\n",
            "new set of weights found,iteration: 17849 loss: 1.0461651 acc: 0.41333333333333333\n",
            "new set of weights found,iteration: 18539 loss: 1.0460805 acc: 0.42\n",
            "new set of weights found,iteration: 19139 loss: 1.0459185 acc: 0.39666666666666667\n",
            "new set of weights found,iteration: 19346 loss: 1.0456973 acc: 0.43666666666666665\n",
            "new set of weights found,iteration: 20145 loss: 1.0456519 acc: 0.42\n",
            "new set of weights found,iteration: 20460 loss: 1.0456437 acc: 0.4533333333333333\n",
            "new set of weights found,iteration: 20583 loss: 1.0455246 acc: 0.44666666666666666\n",
            "new set of weights found,iteration: 20640 loss: 1.0454366 acc: 0.42\n",
            "new set of weights found,iteration: 20939 loss: 1.045291 acc: 0.44\n",
            "new set of weights found,iteration: 20953 loss: 1.0451491 acc: 0.43333333333333335\n",
            "new set of weights found,iteration: 20990 loss: 1.0451412 acc: 0.44\n",
            "new set of weights found,iteration: 21469 loss: 1.0449806 acc: 0.43333333333333335\n",
            "new set of weights found,iteration: 21520 loss: 1.0448494 acc: 0.44\n",
            "new set of weights found,iteration: 21578 loss: 1.0448301 acc: 0.43666666666666665\n",
            "new set of weights found,iteration: 21969 loss: 1.0447168 acc: 0.42333333333333334\n",
            "new set of weights found,iteration: 22626 loss: 1.0446159 acc: 0.44333333333333336\n",
            "new set of weights found,iteration: 22715 loss: 1.0446045 acc: 0.44333333333333336\n",
            "new set of weights found,iteration: 24063 loss: 1.0444347 acc: 0.44333333333333336\n",
            "new set of weights found,iteration: 24374 loss: 1.0443867 acc: 0.44666666666666666\n",
            "new set of weights found,iteration: 24988 loss: 1.0443189 acc: 0.44\n",
            "new set of weights found,iteration: 25833 loss: 1.04426 acc: 0.43666666666666665\n",
            "new set of weights found,iteration: 25975 loss: 1.0441846 acc: 0.44333333333333336\n",
            "new set of weights found,iteration: 26600 loss: 1.0441353 acc: 0.43666666666666665\n",
            "new set of weights found,iteration: 26701 loss: 1.0440897 acc: 0.45\n",
            "new set of weights found,iteration: 27042 loss: 1.0440625 acc: 0.4533333333333333\n",
            "new set of weights found,iteration: 27217 loss: 1.0440432 acc: 0.4266666666666667\n",
            "new set of weights found,iteration: 27244 loss: 1.0438812 acc: 0.4533333333333333\n",
            "new set of weights found,iteration: 27961 loss: 1.0438132 acc: 0.4266666666666667\n",
            "new set of weights found,iteration: 28181 loss: 1.0438128 acc: 0.43666666666666665\n",
            "new set of weights found,iteration: 28397 loss: 1.0437691 acc: 0.44333333333333336\n",
            "new set of weights found,iteration: 28722 loss: 1.0436956 acc: 0.43666666666666665\n",
            "new set of weights found,iteration: 28826 loss: 1.0435909 acc: 0.44333333333333336\n",
            "new set of weights found,iteration: 30251 loss: 1.0435169 acc: 0.43666666666666665\n",
            "new set of weights found,iteration: 33191 loss: 1.0434154 acc: 0.44333333333333336\n",
            "new set of weights found,iteration: 33930 loss: 1.0433508 acc: 0.43333333333333335\n",
            "new set of weights found,iteration: 39867 loss: 1.0432814 acc: 0.4033333333333333\n",
            "new set of weights found,iteration: 40034 loss: 1.0432489 acc: 0.44666666666666666\n",
            "new set of weights found,iteration: 40446 loss: 1.0432229 acc: 0.44666666666666666\n",
            "new set of weights found,iteration: 42767 loss: 1.0432166 acc: 0.43333333333333335\n",
            "new set of weights found,iteration: 42805 loss: 1.0431916 acc: 0.44666666666666666\n",
            "new set of weights found,iteration: 43261 loss: 1.0430701 acc: 0.43333333333333335\n",
            "new set of weights found,iteration: 43396 loss: 1.0427693 acc: 0.43333333333333335\n",
            "new set of weights found,iteration: 50224 loss: 1.0427638 acc: 0.44666666666666666\n",
            "new set of weights found,iteration: 50392 loss: 1.0427134 acc: 0.42333333333333334\n",
            "new set of weights found,iteration: 50606 loss: 1.0426174 acc: 0.41333333333333333\n",
            "new set of weights found,iteration: 50669 loss: 1.0425591 acc: 0.44333333333333336\n",
            "new set of weights found,iteration: 50734 loss: 1.0424824 acc: 0.43333333333333335\n",
            "new set of weights found,iteration: 52030 loss: 1.04241 acc: 0.4266666666666667\n",
            "new set of weights found,iteration: 53001 loss: 1.0423968 acc: 0.43666666666666665\n",
            "new set of weights found,iteration: 53292 loss: 1.0423768 acc: 0.4166666666666667\n",
            "new set of weights found,iteration: 53325 loss: 1.0422399 acc: 0.41\n",
            "new set of weights found,iteration: 53530 loss: 1.0421505 acc: 0.43333333333333335\n",
            "new set of weights found,iteration: 54002 loss: 1.0421171 acc: 0.4266666666666667\n",
            "new set of weights found,iteration: 55403 loss: 1.0420872 acc: 0.39666666666666667\n",
            "new set of weights found,iteration: 57185 loss: 1.0420203 acc: 0.4033333333333333\n",
            "new set of weights found,iteration: 58585 loss: 1.0419699 acc: 0.43666666666666665\n",
            "new set of weights found,iteration: 59294 loss: 1.0419677 acc: 0.41333333333333333\n",
            "new set of weights found,iteration: 59462 loss: 1.0419194 acc: 0.4066666666666667\n",
            "new set of weights found,iteration: 59797 loss: 1.041894 acc: 0.41333333333333333\n",
            "new set of weights found,iteration: 59876 loss: 1.0418929 acc: 0.4066666666666667\n",
            "new set of weights found,iteration: 62309 loss: 1.0418845 acc: 0.44333333333333336\n",
            "new set of weights found,iteration: 63179 loss: 1.0418319 acc: 0.42\n",
            "new set of weights found,iteration: 63611 loss: 1.0418189 acc: 0.4166666666666667\n",
            "new set of weights found,iteration: 63669 loss: 1.041792 acc: 0.43333333333333335\n",
            "new set of weights found,iteration: 63996 loss: 1.0417519 acc: 0.43333333333333335\n",
            "new set of weights found,iteration: 64347 loss: 1.0416865 acc: 0.44333333333333336\n",
            "new set of weights found,iteration: 65218 loss: 1.0416507 acc: 0.41333333333333333\n",
            "new set of weights found,iteration: 65991 loss: 1.0415875 acc: 0.45\n",
            "new set of weights found,iteration: 68643 loss: 1.0415639 acc: 0.44\n",
            "new set of weights found,iteration: 70701 loss: 1.0415592 acc: 0.4266666666666667\n",
            "new set of weights found,iteration: 71202 loss: 1.0414841 acc: 0.4266666666666667\n",
            "new set of weights found,iteration: 73417 loss: 1.0414063 acc: 0.44333333333333336\n",
            "new set of weights found,iteration: 74796 loss: 1.0413358 acc: 0.42\n",
            "new set of weights found,iteration: 81123 loss: 1.0412884 acc: 0.43\n",
            "new set of weights found,iteration: 81529 loss: 1.0412862 acc: 0.42333333333333334\n",
            "new set of weights found,iteration: 81606 loss: 1.0412643 acc: 0.4266666666666667\n",
            "new set of weights found,iteration: 81651 loss: 1.0411466 acc: 0.41\n",
            "new set of weights found,iteration: 81702 loss: 1.0410625 acc: 0.43333333333333335\n",
            "new set of weights found,iteration: 95057 loss: 1.0410006 acc: 0.43666666666666665\n",
            "new set of weights found,iteration: 97759 loss: 1.0409485 acc: 0.4033333333333333\n"
          ]
        }
      ]
    }
  ]
}